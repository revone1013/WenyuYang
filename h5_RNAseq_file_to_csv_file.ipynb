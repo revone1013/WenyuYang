{
  "nbformat": 4,
  "nbformat_minor": 0,
  "metadata": {
    "colab": {
      "provenance": []
    },
    "kernelspec": {
      "name": "python3",
      "display_name": "Python 3"
    },
    "language_info": {
      "name": "python"
    }
  },
  "cells": [
    {
      "cell_type": "code",
      "execution_count": null,
      "metadata": {
        "colab": {
          "base_uri": "https://localhost:8080/"
        },
        "id": "f-MQ6nTeX5rE",
        "outputId": "cb65c61e-d1f1-44eb-e0d8-0489fdba32e0"
      },
      "outputs": [
        {
          "output_type": "stream",
          "name": "stdout",
          "text": [
            "Requirement already satisfied: h5py in /usr/local/lib/python3.10/dist-packages (3.11.0)\n",
            "Requirement already satisfied: numpy>=1.17.3 in /usr/local/lib/python3.10/dist-packages (from h5py) (1.26.4)\n",
            "Requirement already satisfied: pandas in /usr/local/lib/python3.10/dist-packages (2.1.4)\n",
            "Requirement already satisfied: numpy<2,>=1.22.4 in /usr/local/lib/python3.10/dist-packages (from pandas) (1.26.4)\n",
            "Requirement already satisfied: python-dateutil>=2.8.2 in /usr/local/lib/python3.10/dist-packages (from pandas) (2.8.2)\n",
            "Requirement already satisfied: pytz>=2020.1 in /usr/local/lib/python3.10/dist-packages (from pandas) (2024.2)\n",
            "Requirement already satisfied: tzdata>=2022.1 in /usr/local/lib/python3.10/dist-packages (from pandas) (2024.1)\n",
            "Requirement already satisfied: six>=1.5 in /usr/local/lib/python3.10/dist-packages (from python-dateutil>=2.8.2->pandas) (1.16.0)\n"
          ]
        }
      ],
      "source": [
        "!pip install h5py\n",
        "!pip install pandas"
      ]
    },
    {
      "cell_type": "code",
      "source": [
        "#reading h5\n",
        "import h5py\n",
        "\n",
        "# Define the file path to the .h5 file\n",
        "file_path = '/content/GSM7021712_C_1m_raw_feature_bc_matrix.h5'\n",
        "\n",
        "# Open the .h5 file\n",
        "with h5py.File(file_path, 'r') as f:\n",
        "    # Access the 'matrix' group\n",
        "    matrix_group = f['matrix']\n",
        "\n",
        "    # List all datasets within 'matrix'\n",
        "    print(\"Keys in 'matrix':\", list(matrix_group.keys()))\n",
        "\n",
        "    # Access and print information about each dataset\n",
        "    for key in matrix_group:\n",
        "        item = matrix_group[key]\n",
        "        if isinstance(item, h5py.Dataset):\n",
        "            print(f\"Dataset '{key}' shape: {item.shape}\")\n",
        "            print(f\"Dataset '{key}' dtype: {item.dtype}\")\n",
        "            # Print the first few elements of the dataset if it's not too large\n",
        "            try:\n",
        "                print(f\"First few elements of '{key}':\", item[:10])  # Adjust slicing as needed\n",
        "            except Exception as e:\n",
        "                print(f\"Could not read data from '{key}': {e}\")\n",
        "        elif isinstance(item, h5py.Group):\n",
        "            print(f\"Group '{key}'\")\n",
        "        else:\n",
        "            print(f\"Unknown item type for '{key}'\")\n"
      ],
      "metadata": {
        "colab": {
          "base_uri": "https://localhost:8080/"
        },
        "id": "-lrj2HVuX6IB",
        "outputId": "879d92ff-6c95-4516-ab58-c4a0c7d0e7bb"
      },
      "execution_count": 13,
      "outputs": [
        {
          "output_type": "stream",
          "name": "stdout",
          "text": [
            "Keys in 'matrix': ['barcodes', 'data', 'features', 'indices', 'indptr', 'shape']\n",
            "Dataset 'barcodes' shape: (6794880,)\n",
            "Dataset 'barcodes' dtype: |S24\n",
            "First few elements of 'barcodes': [b'AAACCCAAGAAACACT-1' b'AAACCCAAGAAACCAT-1' b'AAACCCAAGAAACCCA-1'\n",
            " b'AAACCCAAGAAACCCG-1' b'AAACCCAAGAAACCTG-1' b'AAACCCAAGAAACGAA-1'\n",
            " b'AAACCCAAGAAACGTC-1' b'AAACCCAAGAAACTAC-1' b'AAACCCAAGAAACTCA-1'\n",
            " b'AAACCCAAGAAACTGC-1']\n",
            "Dataset 'data' shape: (25118049,)\n",
            "Dataset 'data' dtype: int32\n",
            "First few elements of 'data': [1 1 1 1 1 1 1 1 1 1]\n",
            "Group 'features'\n",
            "Dataset 'indices' shape: (25118049,)\n",
            "Dataset 'indices' dtype: int64\n",
            "First few elements of 'indices': [ 3141  3919 12168 20212 24842 30005 32201 12185 29544 32201]\n",
            "Dataset 'indptr' shape: (6794881,)\n",
            "Dataset 'indptr' dtype: int64\n",
            "First few elements of 'indptr': [0 0 7 8 8 8 8 8 8 9]\n",
            "Dataset 'shape' shape: (2,)\n",
            "Dataset 'shape' dtype: int32\n",
            "First few elements of 'shape': [  32285 6794880]\n"
          ]
        }
      ]
    },
    {
      "cell_type": "code",
      "source": [
        "#download feature(species, geneID and name)\n",
        "import h5py\n",
        "import pandas as pd\n",
        "import numpy as np\n",
        "\n",
        "# Define the file path to the .h5 file\n",
        "file_path = '/content/GSM7021712_C_1m_raw_feature_bc_matrix'\n",
        "\n",
        "# Define the path for the combined CSV output\n",
        "output_csv_path = '/content/features_combined.csv'\n",
        "\n",
        "# Open the .h5 file\n",
        "with h5py.File(file_path, 'r') as f:\n",
        "    # Access the 'matrix' group\n",
        "    matrix_group = f['matrix']\n",
        "\n",
        "    # Check if 'features' group exists\n",
        "    if 'features' in matrix_group:\n",
        "        features_group = matrix_group['features']\n",
        "\n",
        "        # List of datasets to combine\n",
        "        dataset_keys = ['_all_tag_keys', 'feature_type', 'genome', 'id', 'name']\n",
        "\n",
        "        # Initialize a dictionary to hold DataFrames\n",
        "        data_dict = {}\n",
        "\n",
        "        for key in dataset_keys:\n",
        "            if key in features_group:\n",
        "                dataset = features_group[key]\n",
        "                data = dataset[:]\n",
        "\n",
        "                # Convert data to a DataFrame\n",
        "                if dataset.dtype.char == 'S':  # If the data type is a string\n",
        "                    data = [item.decode('utf-8') for item in data]\n",
        "                df = pd.DataFrame(data, columns=[key])\n",
        "\n",
        "                # Add DataFrame to dictionary\n",
        "                data_dict[key] = df\n",
        "            else:\n",
        "                print(f\"Dataset '{key}' not found in 'features'.\")\n",
        "\n",
        "        # Concatenate all DataFrames horizontally\n",
        "        if data_dict:\n",
        "            combined_df = pd.concat(data_dict.values(), axis=1)\n",
        "            combined_df.to_csv(output_csv_path, index=False)\n",
        "            print(f\"Combined feature data saved to CSV as '{output_csv_path}'\")\n",
        "        else:\n",
        "            print(\"No datasets found to combine.\")\n",
        "    else:\n",
        "        print(\"'features' group not found in 'matrix'.\")\n"
      ],
      "metadata": {
        "colab": {
          "base_uri": "https://localhost:8080/",
          "height": 477
        },
        "id": "Pgt3kxbOgoE8",
        "outputId": "b9a00f51-d51a-4494-a176-f774bd77c347"
      },
      "execution_count": 14,
      "outputs": [
        {
          "output_type": "error",
          "ename": "FileNotFoundError",
          "evalue": "[Errno 2] Unable to synchronously open file (unable to open file: name = '/content/GSM7021712_C_1m_raw_feature_bc_matrix', errno = 2, error message = 'No such file or directory', flags = 0, o_flags = 0)",
          "traceback": [
            "\u001b[0;31m---------------------------------------------------------------------------\u001b[0m",
            "\u001b[0;31mFileNotFoundError\u001b[0m                         Traceback (most recent call last)",
            "\u001b[0;32m<ipython-input-14-01200b54148f>\u001b[0m in \u001b[0;36m<cell line: 13>\u001b[0;34m()\u001b[0m\n\u001b[1;32m     11\u001b[0m \u001b[0;34m\u001b[0m\u001b[0m\n\u001b[1;32m     12\u001b[0m \u001b[0;31m# Open the .h5 file\u001b[0m\u001b[0;34m\u001b[0m\u001b[0;34m\u001b[0m\u001b[0m\n\u001b[0;32m---> 13\u001b[0;31m \u001b[0;32mwith\u001b[0m \u001b[0mh5py\u001b[0m\u001b[0;34m.\u001b[0m\u001b[0mFile\u001b[0m\u001b[0;34m(\u001b[0m\u001b[0mfile_path\u001b[0m\u001b[0;34m,\u001b[0m \u001b[0;34m'r'\u001b[0m\u001b[0;34m)\u001b[0m \u001b[0;32mas\u001b[0m \u001b[0mf\u001b[0m\u001b[0;34m:\u001b[0m\u001b[0;34m\u001b[0m\u001b[0;34m\u001b[0m\u001b[0m\n\u001b[0m\u001b[1;32m     14\u001b[0m     \u001b[0;31m# Access the 'matrix' group\u001b[0m\u001b[0;34m\u001b[0m\u001b[0;34m\u001b[0m\u001b[0m\n\u001b[1;32m     15\u001b[0m     \u001b[0mmatrix_group\u001b[0m \u001b[0;34m=\u001b[0m \u001b[0mf\u001b[0m\u001b[0;34m[\u001b[0m\u001b[0;34m'matrix'\u001b[0m\u001b[0;34m]\u001b[0m\u001b[0;34m\u001b[0m\u001b[0;34m\u001b[0m\u001b[0m\n",
            "\u001b[0;32m/usr/local/lib/python3.10/dist-packages/h5py/_hl/files.py\u001b[0m in \u001b[0;36m__init__\u001b[0;34m(self, name, mode, driver, libver, userblock_size, swmr, rdcc_nslots, rdcc_nbytes, rdcc_w0, track_order, fs_strategy, fs_persist, fs_threshold, fs_page_size, page_buf_size, min_meta_keep, min_raw_keep, locking, alignment_threshold, alignment_interval, meta_block_size, **kwds)\u001b[0m\n\u001b[1;32m    560\u001b[0m                                  \u001b[0mfs_persist\u001b[0m\u001b[0;34m=\u001b[0m\u001b[0mfs_persist\u001b[0m\u001b[0;34m,\u001b[0m \u001b[0mfs_threshold\u001b[0m\u001b[0;34m=\u001b[0m\u001b[0mfs_threshold\u001b[0m\u001b[0;34m,\u001b[0m\u001b[0;34m\u001b[0m\u001b[0;34m\u001b[0m\u001b[0m\n\u001b[1;32m    561\u001b[0m                                  fs_page_size=fs_page_size)\n\u001b[0;32m--> 562\u001b[0;31m                 \u001b[0mfid\u001b[0m \u001b[0;34m=\u001b[0m \u001b[0mmake_fid\u001b[0m\u001b[0;34m(\u001b[0m\u001b[0mname\u001b[0m\u001b[0;34m,\u001b[0m \u001b[0mmode\u001b[0m\u001b[0;34m,\u001b[0m \u001b[0muserblock_size\u001b[0m\u001b[0;34m,\u001b[0m \u001b[0mfapl\u001b[0m\u001b[0;34m,\u001b[0m \u001b[0mfcpl\u001b[0m\u001b[0;34m,\u001b[0m \u001b[0mswmr\u001b[0m\u001b[0;34m=\u001b[0m\u001b[0mswmr\u001b[0m\u001b[0;34m)\u001b[0m\u001b[0;34m\u001b[0m\u001b[0;34m\u001b[0m\u001b[0m\n\u001b[0m\u001b[1;32m    563\u001b[0m \u001b[0;34m\u001b[0m\u001b[0m\n\u001b[1;32m    564\u001b[0m             \u001b[0;32mif\u001b[0m \u001b[0misinstance\u001b[0m\u001b[0;34m(\u001b[0m\u001b[0mlibver\u001b[0m\u001b[0;34m,\u001b[0m \u001b[0mtuple\u001b[0m\u001b[0;34m)\u001b[0m\u001b[0;34m:\u001b[0m\u001b[0;34m\u001b[0m\u001b[0;34m\u001b[0m\u001b[0m\n",
            "\u001b[0;32m/usr/local/lib/python3.10/dist-packages/h5py/_hl/files.py\u001b[0m in \u001b[0;36mmake_fid\u001b[0;34m(name, mode, userblock_size, fapl, fcpl, swmr)\u001b[0m\n\u001b[1;32m    233\u001b[0m         \u001b[0;32mif\u001b[0m \u001b[0mswmr\u001b[0m \u001b[0;32mand\u001b[0m \u001b[0mswmr_support\u001b[0m\u001b[0;34m:\u001b[0m\u001b[0;34m\u001b[0m\u001b[0;34m\u001b[0m\u001b[0m\n\u001b[1;32m    234\u001b[0m             \u001b[0mflags\u001b[0m \u001b[0;34m|=\u001b[0m \u001b[0mh5f\u001b[0m\u001b[0;34m.\u001b[0m\u001b[0mACC_SWMR_READ\u001b[0m\u001b[0;34m\u001b[0m\u001b[0;34m\u001b[0m\u001b[0m\n\u001b[0;32m--> 235\u001b[0;31m         \u001b[0mfid\u001b[0m \u001b[0;34m=\u001b[0m \u001b[0mh5f\u001b[0m\u001b[0;34m.\u001b[0m\u001b[0mopen\u001b[0m\u001b[0;34m(\u001b[0m\u001b[0mname\u001b[0m\u001b[0;34m,\u001b[0m \u001b[0mflags\u001b[0m\u001b[0;34m,\u001b[0m \u001b[0mfapl\u001b[0m\u001b[0;34m=\u001b[0m\u001b[0mfapl\u001b[0m\u001b[0;34m)\u001b[0m\u001b[0;34m\u001b[0m\u001b[0;34m\u001b[0m\u001b[0m\n\u001b[0m\u001b[1;32m    236\u001b[0m     \u001b[0;32melif\u001b[0m \u001b[0mmode\u001b[0m \u001b[0;34m==\u001b[0m \u001b[0;34m'r+'\u001b[0m\u001b[0;34m:\u001b[0m\u001b[0;34m\u001b[0m\u001b[0;34m\u001b[0m\u001b[0m\n\u001b[1;32m    237\u001b[0m         \u001b[0mfid\u001b[0m \u001b[0;34m=\u001b[0m \u001b[0mh5f\u001b[0m\u001b[0;34m.\u001b[0m\u001b[0mopen\u001b[0m\u001b[0;34m(\u001b[0m\u001b[0mname\u001b[0m\u001b[0;34m,\u001b[0m \u001b[0mh5f\u001b[0m\u001b[0;34m.\u001b[0m\u001b[0mACC_RDWR\u001b[0m\u001b[0;34m,\u001b[0m \u001b[0mfapl\u001b[0m\u001b[0;34m=\u001b[0m\u001b[0mfapl\u001b[0m\u001b[0;34m)\u001b[0m\u001b[0;34m\u001b[0m\u001b[0;34m\u001b[0m\u001b[0m\n",
            "\u001b[0;32mh5py/_objects.pyx\u001b[0m in \u001b[0;36mh5py._objects.with_phil.wrapper\u001b[0;34m()\u001b[0m\n",
            "\u001b[0;32mh5py/_objects.pyx\u001b[0m in \u001b[0;36mh5py._objects.with_phil.wrapper\u001b[0;34m()\u001b[0m\n",
            "\u001b[0;32mh5py/h5f.pyx\u001b[0m in \u001b[0;36mh5py.h5f.open\u001b[0;34m()\u001b[0m\n",
            "\u001b[0;31mFileNotFoundError\u001b[0m: [Errno 2] Unable to synchronously open file (unable to open file: name = '/content/GSM7021712_C_1m_raw_feature_bc_matrix', errno = 2, error message = 'No such file or directory', flags = 0, o_flags = 0)"
          ]
        }
      ]
    },
    {
      "cell_type": "code",
      "source": [
        "# based on result above add raw count and CPM\n",
        "!pip install scipy"
      ],
      "metadata": {
        "colab": {
          "base_uri": "https://localhost:8080/"
        },
        "id": "-hC2GwJkotWq",
        "outputId": "6d06c190-acda-4c93-87d1-8d683089e562"
      },
      "execution_count": 1,
      "outputs": [
        {
          "output_type": "stream",
          "name": "stdout",
          "text": [
            "Requirement already satisfied: scipy in /usr/local/lib/python3.10/dist-packages (1.13.1)\n",
            "Requirement already satisfied: numpy<2.3,>=1.22.4 in /usr/local/lib/python3.10/dist-packages (from scipy) (1.26.4)\n"
          ]
        }
      ]
    },
    {
      "cell_type": "code",
      "source": [
        "#debug\n",
        "import h5py\n",
        "\n",
        "# Define the file path to the .h5 file\n",
        "file_path = '/content/GSM7021712_C_1m_raw_feature_bc_matrix.h5'\n",
        "\n",
        "# Open the .h5 file\n",
        "with h5py.File(file_path, 'r') as f:\n",
        "    # Access the 'matrix' group\n",
        "    matrix_group = f['matrix']\n",
        "\n",
        "    # Print all datasets in the matrix group\n",
        "    print(\"Datasets in the 'matrix' group:\")\n",
        "    for name in matrix_group:\n",
        "        print(name)\n",
        "\n",
        "    # Access data arrays for raw counts\n",
        "    data_matrix = matrix_group['data'][:]  # Non-zero values\n",
        "    indices = matrix_group['indices'][:]    # Row indices\n",
        "    indptr = matrix_group['indptr'][:]      # Index pointer\n",
        "\n",
        "    # Print the lengths of the arrays\n",
        "    print(f\"Data length: {len(data_matrix)}\")\n",
        "    print(f\"Indices length: {len(indices)}\")\n",
        "    print(f\"Indptr length: {len(indptr)}\")\n",
        "\n",
        "    # Print the first few entries of indptr to see its structure\n",
        "    print(\"First few entries of indptr:\", indptr[:10])\n"
      ],
      "metadata": {
        "colab": {
          "base_uri": "https://localhost:8080/"
        },
        "id": "JC-8Mnk0q2c-",
        "outputId": "a46f4edc-9b55-4b63-eceb-21bc479c1926"
      },
      "execution_count": 9,
      "outputs": [
        {
          "output_type": "stream",
          "name": "stdout",
          "text": [
            "Datasets in the 'matrix' group:\n",
            "barcodes\n",
            "data\n",
            "features\n",
            "indices\n",
            "indptr\n",
            "shape\n",
            "Data length: 25118049\n",
            "Indices length: 25118049\n",
            "Indptr length: 6794881\n",
            "First few entries of indptr: [0 0 7 8 8 8 8 8 8 9]\n"
          ]
        }
      ]
    },
    {
      "cell_type": "code",
      "source": [
        "#feature(gene name id species)\n",
        "\n",
        "import h5py\n",
        "import pandas as pd\n",
        "\n",
        "# Define the file path to the .h5 file\n",
        "file_path = '/content/GSM7021712_C_1m_raw_feature_bc_matrix.h5'\n",
        "\n",
        "# Open the .h5 file\n",
        "with h5py.File(file_path, 'r') as f:\n",
        "    # Access the 'matrix' group\n",
        "    matrix_group = f['matrix']\n",
        "\n",
        "    # Access the features group\n",
        "    features_group = matrix_group['features']\n",
        "\n",
        "    # Access individual datasets within the features group\n",
        "    feature_type = features_group['feature_type'][:]  # Feature types\n",
        "    genome = features_group['genome'][:]              # Genome information\n",
        "    ids = features_group['id'][:]                      # IDs\n",
        "    names = features_group['name'][:]                  # Names\n",
        "\n",
        "    # Convert data to lists and decode\n",
        "    feature_type = [item.decode('utf-8') for item in feature_type]\n",
        "    genome = [item.decode('utf-8') for item in genome]\n",
        "    ids = [item.decode('utf-8') for item in ids]\n",
        "    names = [item.decode('utf-8') for item in names]\n",
        "\n",
        "    # Create a DataFrame for features without '_all_tag_keys'\n",
        "    features_df = pd.DataFrame({\n",
        "        'feature_type': feature_type,\n",
        "        'genome': genome,\n",
        "        'id': ids,\n",
        "        'name': names\n",
        "    })\n",
        "\n",
        "    # Print the DataFrame to verify\n",
        "    print(features_df.head())\n"
      ],
      "metadata": {
        "colab": {
          "base_uri": "https://localhost:8080/"
        },
        "id": "jAF01JXlo2As",
        "outputId": "530db4f0-478e-40f8-afe3-738fd4b0f274"
      },
      "execution_count": 16,
      "outputs": [
        {
          "output_type": "stream",
          "name": "stdout",
          "text": [
            "      feature_type genome                  id     name\n",
            "0  Gene Expression   mm10  ENSMUSG00000051951     Xkr4\n",
            "1  Gene Expression   mm10  ENSMUSG00000089699   Gm1992\n",
            "2  Gene Expression   mm10  ENSMUSG00000102331  Gm19938\n",
            "3  Gene Expression   mm10  ENSMUSG00000102343  Gm37381\n",
            "4  Gene Expression   mm10  ENSMUSG00000025900      Rp1\n"
          ]
        }
      ]
    },
    {
      "cell_type": "code",
      "source": [
        "#debug\n",
        "import h5py\n",
        "import pandas as pd\n",
        "from scipy.sparse import csr_matrix\n",
        "\n",
        "# Define the file path to the .h5 file\n",
        "file_path = '/content/GSM7021712_C_1m_raw_feature_bc_matrix.h5'\n",
        "\n",
        "# Open the .h5 file\n",
        "with h5py.File(file_path, 'r') as f:\n",
        "    # Access the 'matrix' group\n",
        "    matrix_group = f['matrix']\n",
        "\n",
        "    # Access the features group\n",
        "    features_group = matrix_group['features']\n",
        "\n",
        "    # Access individual datasets within the features group\n",
        "    feature_type = features_group['feature_type'][:]  # Feature types\n",
        "    genome = features_group['genome'][:]              # Genome information\n",
        "    ids = features_group['id'][:]                      # IDs\n",
        "    names = features_group['name'][:]                  # Names\n",
        "\n",
        "    # Convert data to lists and decode\n",
        "    feature_type = [item.decode('utf-8') for item in feature_type]\n",
        "    genome = [item.decode('utf-8') for item in genome]\n",
        "    ids = [item.decode('utf-8') for item in ids]\n",
        "    names = [item.decode('utf-8') for item in names]\n",
        "\n",
        "    # Create a DataFrame for features\n",
        "    features_df = pd.DataFrame({\n",
        "        'feature_type': feature_type,\n",
        "        'genome': genome,\n",
        "        'id': ids,\n",
        "        'name': names\n",
        "    })\n",
        "\n",
        "    # Access raw counts data\n",
        "    data = matrix_group['data'][:]        # Non-zero values\n",
        "    indices = matrix_group['indices'][:]  # Row indices\n",
        "    indptr = matrix_group['indptr'][:]    # Index pointer\n",
        "    shape = matrix_group['shape'][:]       # Shape of the matrix\n",
        "\n",
        "    # Print shapes for debugging\n",
        "    print(f\"Data shape: {data.shape}\")\n",
        "    print(f\"Indices shape: {indices.shape}\")\n",
        "    print(f\"Indptr shape: {indptr.shape}\")\n",
        "    print(f\"Shape of the matrix: {shape}\")\n",
        "\n",
        "    # Print some values for debugging\n",
        "    print(\"\\nIndptr values (first 10):\", indptr[:10])\n",
        "    print(\"Data values (first 10):\", data[:10])\n",
        "    print(\"Indices values (first 10):\", indices[:10])\n",
        "\n",
        "    # Create a sparse matrix for raw counts\n",
        "    try:\n",
        "        raw_counts = csr_matrix((data, indices, indptr), shape)\n",
        "    except ValueError as e:\n",
        "        print(\"Error creating sparse matrix:\", e)\n",
        "        print(\"Length of indptr:\", len(indptr))\n",
        "        print(\"Expected number of rows:\", shape[0] + 1)\n",
        "\n",
        "    # If sparse matrix creation is successful, proceed with conversion to dense\n",
        "    else:\n",
        "        # Convert raw counts to a dense format (optional)\n",
        "        raw_counts_dense = raw_counts.toarray()\n",
        "\n",
        "        # Calculate CPM\n",
        "        total_counts = raw_counts.sum(axis=1).A1  # Sum across columns for each row (cell)\n",
        "        cpm = (raw_counts.multiply(1e6 / total_counts[:, None])).toarray()  # CPM calculation\n",
        "\n",
        "        # Create a DataFrame for raw counts\n",
        "        raw_counts_df = pd.DataFrame(raw_counts_dense, columns=features_df['name'])\n",
        "\n",
        "        # Create a DataFrame for CPM\n",
        "        cpm_df = pd.DataFrame(cpm, columns=features_df['name'])\n",
        "\n",
        "        # Print the DataFrames to verify\n",
        "        print(\"Features DataFrame:\")\n",
        "        print(features_df.head())\n",
        "\n",
        "        print(\"\\nRaw Counts DataFrame:\")\n",
        "        print(raw_counts_df.head())\n",
        "\n",
        "        print(\"\\nCPM DataFrame:\")\n",
        "        print(cpm_df.head())\n",
        "\n",
        "\n",
        "#The output confirms that the indptr values do not match the expected size for creating the sparse matrix,\n",
        "#which is leading to the error. Let's break down the issues observed from the output:\n",
        "\n",
        "#Key Observations\n",
        "#Shape of the Matrix: The shape is given as [32285, 6794880], indicating that you expect 32285 rows and 6794880 columns\n",
        "#in the matrix.\n",
        "\n",
        "#Indptr Length: The indptr length is 6794881, which should actually be 32286\n",
        "#(one more than the number of rows) to define the matrix correctly.\n",
        "\n",
        "#Indptr Values: The first few values of indptr show that many rows have no entries.\n",
        "#Specifically, the values are [0, 0, 7, 8, 8, 8, 8, 8, 8, 9], suggesting that:\n",
        "\n",
        "#The first two rows have no non-zero entries.\n",
        "#The third row has 7 non-zero entries.\n",
        "#The subsequent rows have very few entries, with most of them clustered around very low indices.\n",
        "#Potential Issues and Solutions\n",
        "#Empty Rows: The indptr values starting with 0, 0 suggest that the first row may be entirely empty,\n",
        "#and this might have implications on how the data was structured or generated.\n",
        "\n",
        "#Data Generation: The mismatch in the number of rows and the entries in the indptr could indicate an issue in how the data,\n",
        "#indices, or indptr arrays were constructed.\n",
        "#There might be a possibility that not all features (genes) have corresponding counts,\n",
        "\\#leading to a misalignment between the indices and the intended structure.\n",
        "\n",
        "\n",
        "\n"
      ],
      "metadata": {
        "colab": {
          "base_uri": "https://localhost:8080/"
        },
        "id": "C-lc9bt4spkR",
        "outputId": "e0b7043c-3232-4765-a129-5484a143bec5"
      },
      "execution_count": 24,
      "outputs": [
        {
          "output_type": "stream",
          "name": "stdout",
          "text": [
            "Data shape: (25118049,)\n",
            "Indices shape: (25118049,)\n",
            "Indptr shape: (6794881,)\n",
            "Shape of the matrix: [  32285 6794880]\n",
            "\n",
            "Indptr values (first 10): [0 0 7 8 8 8 8 8 8 9]\n",
            "Data values (first 10): [1 1 1 1 1 1 1 1 1 1]\n",
            "Indices values (first 10): [ 3141  3919 12168 20212 24842 30005 32201 12185 29544 32201]\n",
            "Error creating sparse matrix: index pointer size (6794881) should be (32286)\n",
            "Length of indptr: 6794881\n",
            "Expected number of rows: 32286\n"
          ]
        }
      ]
    },
    {
      "cell_type": "code",
      "source": [
        "# Assuming you have already opened the .h5 file as before\n",
        "with h5py.File(file_path, 'r') as f:\n",
        "    # Access raw counts and CPM (assuming they are stored in 'data' and 'CPM' datasets)\n",
        "    raw_counts = matrix_group['data'][:]\n",
        "    cpm = matrix_group['cpm'][:]  # If CPM is available, replace this line as needed\n",
        "\n",
        "    # Create a DataFrame for raw counts\n",
        "    raw_counts_df = pd.DataFrame(raw_counts, columns=features_df['id'])\n",
        "\n",
        "    # Create a DataFrame for CPM\n",
        "    cpm_df = pd.DataFrame(cpm, columns=features_df['id'])\n",
        "\n",
        "    # Concatenate the DataFrames to include raw counts and CPM\n",
        "    final_df = pd.concat([features_df, raw_counts_df, cpm_df], axis=1)\n",
        "\n",
        "    # Save to CSV\n",
        "    final_df.to_csv('gene_expression_data.csv', index=False)\n",
        "\n",
        "# Print the final DataFrame to verify\n",
        "print(final_df.head())\n"
      ],
      "metadata": {
        "colab": {
          "base_uri": "https://localhost:8080/",
          "height": 505
        },
        "id": "oQkHXLhTsJFI",
        "outputId": "16353814-a93e-46c0-884e-6d674e62c41c"
      },
      "execution_count": 17,
      "outputs": [
        {
          "output_type": "error",
          "ename": "KeyError",
          "evalue": "'Unable to synchronously open object (invalid identifier type to function)'",
          "traceback": [
            "\u001b[0;31m---------------------------------------------------------------------------\u001b[0m",
            "\u001b[0;31mKeyError\u001b[0m                                  Traceback (most recent call last)",
            "\u001b[0;32m<ipython-input-17-32487f0331b2>\u001b[0m in \u001b[0;36m<cell line: 2>\u001b[0;34m()\u001b[0m\n\u001b[1;32m      2\u001b[0m \u001b[0;32mwith\u001b[0m \u001b[0mh5py\u001b[0m\u001b[0;34m.\u001b[0m\u001b[0mFile\u001b[0m\u001b[0;34m(\u001b[0m\u001b[0mfile_path\u001b[0m\u001b[0;34m,\u001b[0m \u001b[0;34m'r'\u001b[0m\u001b[0;34m)\u001b[0m \u001b[0;32mas\u001b[0m \u001b[0mf\u001b[0m\u001b[0;34m:\u001b[0m\u001b[0;34m\u001b[0m\u001b[0;34m\u001b[0m\u001b[0m\n\u001b[1;32m      3\u001b[0m     \u001b[0;31m# Access raw counts and CPM (assuming they are stored in 'data' and 'CPM' datasets)\u001b[0m\u001b[0;34m\u001b[0m\u001b[0;34m\u001b[0m\u001b[0m\n\u001b[0;32m----> 4\u001b[0;31m     \u001b[0mraw_counts\u001b[0m \u001b[0;34m=\u001b[0m \u001b[0mmatrix_group\u001b[0m\u001b[0;34m[\u001b[0m\u001b[0;34m'data'\u001b[0m\u001b[0;34m]\u001b[0m\u001b[0;34m[\u001b[0m\u001b[0;34m:\u001b[0m\u001b[0;34m]\u001b[0m\u001b[0;34m\u001b[0m\u001b[0;34m\u001b[0m\u001b[0m\n\u001b[0m\u001b[1;32m      5\u001b[0m     \u001b[0mcpm\u001b[0m \u001b[0;34m=\u001b[0m \u001b[0mmatrix_group\u001b[0m\u001b[0;34m[\u001b[0m\u001b[0;34m'cpm'\u001b[0m\u001b[0;34m]\u001b[0m\u001b[0;34m[\u001b[0m\u001b[0;34m:\u001b[0m\u001b[0;34m]\u001b[0m  \u001b[0;31m# If CPM is available, replace this line as needed\u001b[0m\u001b[0;34m\u001b[0m\u001b[0;34m\u001b[0m\u001b[0m\n\u001b[1;32m      6\u001b[0m \u001b[0;34m\u001b[0m\u001b[0m\n",
            "\u001b[0;32mh5py/_objects.pyx\u001b[0m in \u001b[0;36mh5py._objects.with_phil.wrapper\u001b[0;34m()\u001b[0m\n",
            "\u001b[0;32mh5py/_objects.pyx\u001b[0m in \u001b[0;36mh5py._objects.with_phil.wrapper\u001b[0;34m()\u001b[0m\n",
            "\u001b[0;32m/usr/local/lib/python3.10/dist-packages/h5py/_hl/group.py\u001b[0m in \u001b[0;36m__getitem__\u001b[0;34m(self, name)\u001b[0m\n\u001b[1;32m    355\u001b[0m                 \u001b[0;32mraise\u001b[0m \u001b[0mValueError\u001b[0m\u001b[0;34m(\u001b[0m\u001b[0;34m\"Invalid HDF5 object reference\"\u001b[0m\u001b[0;34m)\u001b[0m\u001b[0;34m\u001b[0m\u001b[0;34m\u001b[0m\u001b[0m\n\u001b[1;32m    356\u001b[0m         \u001b[0;32melif\u001b[0m \u001b[0misinstance\u001b[0m\u001b[0;34m(\u001b[0m\u001b[0mname\u001b[0m\u001b[0;34m,\u001b[0m \u001b[0;34m(\u001b[0m\u001b[0mbytes\u001b[0m\u001b[0;34m,\u001b[0m \u001b[0mstr\u001b[0m\u001b[0;34m)\u001b[0m\u001b[0;34m)\u001b[0m\u001b[0;34m:\u001b[0m\u001b[0;34m\u001b[0m\u001b[0;34m\u001b[0m\u001b[0m\n\u001b[0;32m--> 357\u001b[0;31m             \u001b[0moid\u001b[0m \u001b[0;34m=\u001b[0m \u001b[0mh5o\u001b[0m\u001b[0;34m.\u001b[0m\u001b[0mopen\u001b[0m\u001b[0;34m(\u001b[0m\u001b[0mself\u001b[0m\u001b[0;34m.\u001b[0m\u001b[0mid\u001b[0m\u001b[0;34m,\u001b[0m \u001b[0mself\u001b[0m\u001b[0;34m.\u001b[0m\u001b[0m_e\u001b[0m\u001b[0;34m(\u001b[0m\u001b[0mname\u001b[0m\u001b[0;34m)\u001b[0m\u001b[0;34m,\u001b[0m \u001b[0mlapl\u001b[0m\u001b[0;34m=\u001b[0m\u001b[0mself\u001b[0m\u001b[0;34m.\u001b[0m\u001b[0m_lapl\u001b[0m\u001b[0;34m)\u001b[0m\u001b[0;34m\u001b[0m\u001b[0;34m\u001b[0m\u001b[0m\n\u001b[0m\u001b[1;32m    358\u001b[0m         \u001b[0;32melse\u001b[0m\u001b[0;34m:\u001b[0m\u001b[0;34m\u001b[0m\u001b[0;34m\u001b[0m\u001b[0m\n\u001b[1;32m    359\u001b[0m             raise TypeError(\"Accessing a group is done with bytes or str, \"\n",
            "\u001b[0;32mh5py/_objects.pyx\u001b[0m in \u001b[0;36mh5py._objects.with_phil.wrapper\u001b[0;34m()\u001b[0m\n",
            "\u001b[0;32mh5py/_objects.pyx\u001b[0m in \u001b[0;36mh5py._objects.with_phil.wrapper\u001b[0;34m()\u001b[0m\n",
            "\u001b[0;32mh5py/h5o.pyx\u001b[0m in \u001b[0;36mh5py.h5o.open\u001b[0;34m()\u001b[0m\n",
            "\u001b[0;31mKeyError\u001b[0m: 'Unable to synchronously open object (invalid identifier type to function)'"
          ]
        }
      ]
    },
    {
      "cell_type": "code",
      "source": [
        "import h5py\n",
        "import numpy as np\n",
        "\n",
        "# Define the file path to the .h5 file\n",
        "file_path = '/content/GSM7021712_C_1m_raw_feature_bc_matrix.h5'\n",
        "\n",
        "# Define terms to search for\n",
        "search_terms = ['WT', 'wildtype']\n",
        "search_terms = ['WT', 'wildtypeAPP']\n",
        "\n",
        "def search_terms_in_dataset(dataset, terms):\n",
        "    \"\"\"Search for terms in a dataset.\"\"\"\n",
        "    if dataset.dtype.char == 'S':  # If the data type is a string\n",
        "        data = [item.decode('utf-8') for item in dataset[:]]\n",
        "        found_terms = [term for term in terms if any(term in item for item in data)]\n",
        "        return found_terms\n",
        "    return []\n",
        "\n",
        "# Open the .h5 file\n",
        "with h5py.File(file_path, 'r') as f:\n",
        "    # Check the file-level attributes\n",
        "    print(\"Checking file-level attributes...\")\n",
        "    for attr in f.attrs:\n",
        "        if any(term in str(f.attrs[attr]) for term in search_terms):\n",
        "            print(f\"Term found in file-level attribute '{attr}': {f.attrs[attr]}\")\n",
        "\n",
        "    # Check groups and datasets\n",
        "    def search_in_group(group, group_path=\"\"):\n",
        "        print(f\"\\nSearching in group '{group_path}':\")\n",
        "        for name, item in group.items():\n",
        "            if isinstance(item, h5py.Group):\n",
        "                search_in_group(item, group_path + \"/\" + name)\n",
        "            elif isinstance(item, h5py.Dataset):\n",
        "                found_terms = search_terms_in_dataset(item, search_terms)\n",
        "                if found_terms:\n",
        "                    print(f\"Term(s) {found_terms} found in dataset '{group_path}/{name}'\")\n",
        "\n",
        "    # Start searching from the root\n",
        "    search_in_group(f)\n"
      ],
      "metadata": {
        "colab": {
          "base_uri": "https://localhost:8080/"
        },
        "id": "LVYFfvFWeszT",
        "outputId": "47ba2565-5fa4-40bf-8739-b88bede24d7e"
      },
      "execution_count": null,
      "outputs": [
        {
          "output_type": "stream",
          "name": "stdout",
          "text": [
            "Checking file-level attributes...\n",
            "\n",
            "Searching in group '':\n",
            "\n",
            "Searching in group '/matrix':\n",
            "\n",
            "Searching in group '/matrix/features':\n"
          ]
        }
      ]
    },
    {
      "cell_type": "code",
      "source": [
        "import h5py\n",
        "\n",
        "# Define the file path to the .h5 file\n",
        "file_path = '/content/GSM7021712_C_1m_raw_feature_bc_matrix.h5'\n",
        "\n",
        "# Open the .h5 file\n",
        "with h5py.File(file_path, 'r') as f:\n",
        "    # Recursive function to list all groups and datasets\n",
        "    def list_all_groups_and_datasets(group, group_path=\"\"):\n",
        "        print(f\"Group '{group_path}':\")\n",
        "        for name, item in group.items():\n",
        "            if isinstance(item, h5py.Group):\n",
        "                print(f\"  Group '{group_path}/{name}'\")\n",
        "                list_all_groups_and_datasets(item, group_path + \"/\" + name)\n",
        "            elif isinstance(item, h5py.Dataset):\n",
        "                print(f\"  Dataset '{group_path}/{name}'\")\n",
        "\n",
        "    # Start listing from the root\n",
        "    list_all_groups_and_datasets(f)\n"
      ],
      "metadata": {
        "colab": {
          "base_uri": "https://localhost:8080/"
        },
        "id": "zKguLsKKfJ9a",
        "outputId": "bf6505d8-716c-4bbc-d075-04d5ee6e37cc"
      },
      "execution_count": null,
      "outputs": [
        {
          "output_type": "stream",
          "name": "stdout",
          "text": [
            "Group '':\n",
            "  Group '/matrix'\n",
            "Group '/matrix':\n",
            "  Dataset '/matrix/barcodes'\n",
            "  Dataset '/matrix/data'\n",
            "  Group '/matrix/features'\n",
            "Group '/matrix/features':\n",
            "  Dataset '/matrix/features/_all_tag_keys'\n",
            "  Dataset '/matrix/features/feature_type'\n",
            "  Dataset '/matrix/features/genome'\n",
            "  Dataset '/matrix/features/id'\n",
            "  Dataset '/matrix/features/name'\n",
            "  Dataset '/matrix/indices'\n",
            "  Dataset '/matrix/indptr'\n",
            "  Dataset '/matrix/shape'\n"
          ]
        }
      ]
    }
  ]
}